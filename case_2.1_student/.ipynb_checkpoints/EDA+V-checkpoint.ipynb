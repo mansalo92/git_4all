{
 "cells": [
  {
   "cell_type": "markdown",
   "metadata": {
    "pycharm": {
     "name": "#%% md\n"
    }
   },
   "source": [
    "# Should we develop a commercial SNAP-test for predicting recovery from spinal cord injuries?\n",
    "\n",
    "## Case 2.1"
   ]
  },
  {
   "cell_type": "markdown",
   "metadata": {},
   "source": [
    "Before introducing the case, let us start with the following excercise that shows the power of Data Visualization (DV)."
   ]
  },
  {
   "cell_type": "markdown",
   "metadata": {},
   "source": [
    "### Question 1. (5 mts)"
   ]
  },
  {
   "cell_type": "markdown",
   "metadata": {},
   "source": [
    "One of the earliest and most impactful examples of DV is a mapping of the deadly 1854 Cholera\n",
    "outbreak in London. The figure below shows the streets of Soho in London with Chorea cases overlaid. The original version of this figure was constructed by a local clinician Jon Snow treating victims of the outbreak. Snow created the figure to better understand the nature of the outbreak and identify its source.  The size of the circle indicates the number of cases at a given location. From this picture, identify the source of the outbreak. \n",
    "![Broad Street Map](broadStreetInverted.png)\n"
   ]
  },
  {
   "cell_type": "markdown",
   "metadata": {},
   "source": [
    "#### 1.1 \n",
    "Identify the epicenter of the outbreak (the point where the outbreak started)."
   ]
  },
  {
   "cell_type": "markdown",
   "metadata": {},
   "source": [
    "**Answer:**\n",
    "1. From this map the epicenter of the outbreak is apparent.  Snow saw that this epicenter was located at the Broad      Street pump where Soho residents obtained their drinking water. The pump was closed and the outbreak died out. \n",
    "2. This simple mapping of disease incidence illustrates a key point about DV: that DV must be informed \n",
    "   by domain expertise.  Snow had no formal training in statistics or epidemiology (there was no such thing!), \n",
    "   he constructed the map to better understand the outbreak.  The choice of visualization was driven by \n",
    "   domain expertise.\n",
    "3. Data visualization, like essentially all data science tasks, will be less meaningful without \n",
    "   domain expertise to inform and interpret the results. \n",
    " "
   ]
  },
  {
   "cell_type": "markdown",
   "metadata": {},
   "source": [
    "## Case Introduction (10 mts)\n",
    "\n",
    "**Business Context.** Animal models are commonly used to study spinal cord injuries in humans. Thus, technological advances made in veterinary medicine for spinal cord injury (and other areas that commonly rely on animal models) are often made with an eye towards the eventual development of a product for humans.  One such advancement is the development of a SNAP-test (a test that can be run in a few minutes from a single blood draw) that can be used to predict if the patient will likely recover from the injury.  This information is valuable for doctors and clinical practitioners.  If the information collected in the SNAP-test proves to have sufficient predictive power, then investigators will pursue a patent and bring the product to market. The primary alternative to a SNAP-test is a traditional lab test which is more time and resource intensive; the time required to obtain results from a traditional lab test delays treatment decisions which can adversely affect patient outcomes.  \n",
    "\n",
    "**Business Problem.** You are a consultant for a pharmaceutical company. Your task is to **evaluate the \n",
    "predictive power of these SNAP-tests in terms of six month recovery and subsequently \n",
    "to see if a SNAP-test should be commercially developed.** "
   ]
  },
  {
   "cell_type": "markdown",
   "metadata": {},
   "source": [
    "**Analytical Context.** Understanding and interpreting charts and figures and thinking critically about their implications is a crucial skill for being a data scientist. In this case, we will solve the above problem by presenting a series of tables and charts, and you will make decisions about what to do next at each step. \n",
    "\n",
    "The case is structured as follows: you will (1) first explore the summaries of key quantities; (2) be introduced to various standard ways of plotting data; (3) will make a series of decisions at each step; and (4) finally address the case. "
   ]
  },
  {
   "cell_type": "markdown",
   "metadata": {},
   "source": [
    "### Data"
   ]
  },
  {
   "cell_type": "markdown",
   "metadata": {},
   "source": [
    "Investigators are interested in a SNAP-test that will record levels of at most three biomarkers:  GFAP, pNFH, and S100B. For our purposes, background on these biomarkers\n",
    "and the mechanisms through which they might affect patient recovery are not important.\n",
    "To investigate the potential value of a SNAP-test researchers extracted data from medical records \n",
    "on 31 canine patients with spinal cord injuries.  The clinical outcome of  interest is whether or not the patient has  recovered motor function at six months.  Each patient had blood drawn at time of injury which was stored \n",
    "and later used to extract the levels of the three biomarkers, GFAP, pNFH, and S100B using a standard laboratory test.  Thus, the extracted biomarker levels represent pre-treatment levels and did not affect each patient's treatment course.   "
   ]
  },
  {
   "cell_type": "markdown",
   "metadata": {},
   "source": [
    "The first few rows are the data are as follows. \n",
    "\n",
    " |  Subject id | GFAP | S100B | pNFH | Recovered | Sex | \n",
    " |-------------|-------|------|------|-----------|--------|\n",
    " | 1           |  11.76  |   0.041 | 1.75 | N | F |\n",
    " | 2           |  7.63  |     0.031 |  4.89 | N | F | \n",
    " | 3           |  10.0 |      0.028 |  2.59 | N | F | \n",
    " | 4           | 0.01   |     0.038  |  3.46 | Y | F | \n",
    " | 5           | 0.0    |  0.0 |  0.60 | Y | M | \n",
    " | ... | ... | ...| ...| ... | ... | "
   ]
  },
  {
   "cell_type": "markdown",
   "metadata": {},
   "source": [
    "\n",
    "#### Question 2: Work with a partner to discuss how you would proceed? (5 mts)"
   ]
  },
  {
   "cell_type": "markdown",
   "metadata": {},
   "source": [
    "#### 2.1 \n",
    "What kind of data science problem is this?"
   ]
  },
  {
   "cell_type": "markdown",
   "metadata": {},
   "source": [
    "**Answer:** This is an example of binary classification problem."
   ]
  },
  {
   "cell_type": "markdown",
   "metadata": {},
   "source": [
    "#### 2.2\n",
    "Will you consider fitting a model at this point? Why or why not?"
   ]
  },
  {
   "cell_type": "markdown",
   "metadata": {},
   "source": [
    "**Answer:** It can be tempting to consider jumping right into to fitting a model, e.g., a logistic regression model or a more sophisticated machine learning model (boosting, neural nets, etc.) However, fitting a statistical model at this point is premature.  It's better for us to have a look at the data to gain some intuition, spot any potential problems, and possibly posit a predictive model.  "
   ]
  },
  {
   "cell_type": "markdown",
   "metadata": {},
   "source": [
    "### Looking at summary of the data\n",
    "\n",
    "As a first look at the data let's compute some simple summary statistics for \n",
    "each of the observed variables.  For each continuous  variable, \n",
    "we compute a few simple summary statistics (min, max, median, 25th, and 75th \n",
    "percentile) and a histogram.  The results are shown in the table below.\n",
    "\n",
    "| Variable | Min | 25th Percentile | Median | 75th Percentile | Max | \n",
    "|----------|-----|----------------|--------|-----------------|-----|\n",
    "|GFAP      | 0.0 | 0.0            | 0.0    | 0.38            | 37.8| \n",
    "|S100B     | 0.0 | 0.014          | 1.24   | 2.0             | 3.9 | \n",
    "|pNFH      | -0.30 | 0.23         | 0.44   | 0.94            | 65.0|\n"
   ]
  },
  {
   "cell_type": "markdown",
   "metadata": {},
   "source": [
    "### Question 3: \n",
    "The biomarker's, GFAP, S100B, and pNFH all \n",
    "   measure levels of biological elements in the blood.\n",
    "Do you notice anything unusual about the summary of any of the variables? (5 mts)"
   ]
  },
  {
   "cell_type": "markdown",
   "metadata": {},
   "source": [
    "**Answer:**\n",
    "1. From this table we can immediately spot a problem.  The biomarker's, GFAP, S100B, and pNFH all \n",
    "   measure levels of biological elements in the blood and therefore cannot be negative.  Thus, the \n",
    "   negative entry for pNFH must be a data-entry error which we can confirm with our collaborating clinical\n",
    "   experts. \n",
    "2. Unless you are a clinician it's unlikely that you would know that pFNH must be nonnegative and this error \n",
    "   would have gone unnoticed if the data had been fed mindlessly into a predictive model or \n",
    "   if the clinicians were not an active part of the DV.  It is critical to remember that building a \n",
    "   statistical model is an iterative and collaborative process.  \n",
    "3. Bigger projects  may involve the joint effort of a large team composed of data scientists, \n",
    "   data engineers, developers, domain experts, and multiple stakeholders (customers).  "
   ]
  },
  {
   "cell_type": "markdown",
   "metadata": {},
   "source": [
    "#### Categorical variables\n",
    "**Categorical variables** are variables that take non-numeric values. Here there are two: **Recovery** and **Sex**."
   ]
  },
  {
   "cell_type": "markdown",
   "metadata": {},
   "source": [
    "For the categorical variables a simple table of counts is often a useful starting summary.  \n",
    "\n",
    "|Recovery\\\\ Sex| F | M|\n",
    "|:------------|---|--|\n",
    "| Yes        |10 | 9|\n",
    "| No         |9  | 3| \n",
    "\n",
    "A simple check with the clinical collaborators confirms that these numbers are correct.  \n",
    "\n",
    "### Histograms for biomarkers\n",
    "Having computed a few simple numerical summaries let's generate histograms for each of the continuous \n",
    "variables.   \n",
    "\n",
    "![Biomarker Histograms](biomarkerHists.png)"
   ]
  },
  {
   "cell_type": "markdown",
   "metadata": {},
   "source": [
    "### Question 4: \n",
    "####  4.1  \n",
    "Are the histograms above informative? (5 mts)"
   ]
  },
  {
   "cell_type": "markdown",
   "metadata": {},
   "source": [
    "**Answer**:\n",
    "1. The preceding figure is not particularly informative.  It does show that all three biomarkers have the majority of their mass near or at zero. This is not surprising given our previous numerical summaries."
   ]
  },
  {
   "cell_type": "markdown",
   "metadata": {},
   "source": [
    "#### 4.2\n",
    "Before proceeding further, would you consider taking transformations of the data? If so, what transformations?"
   ]
  },
  {
   "cell_type": "markdown",
   "metadata": {},
   "source": [
    "**Answer:** This plot also suggests that we might try bringing    the large values in a bit by applying a log transformation, e.g., $x\\mapsto \\log(x+1)$.  \n",
    "   "
   ]
  },
  {
   "cell_type": "markdown",
   "metadata": {},
   "source": [
    "### 1D scatterplot: An alternative to histogram\n",
    " \n",
    " An alternative to the histogram that can sometimes prove more informative when there are clusters of points is the 1D scatterplot.  The idea of a 1D scatterplot is to place the observed points vertically and tight them as closely as possible without allowing them to overlap.  Thus, clusters of points will be displaced horizontally causing the plot to 'bulge.'\n",
    "Below we show a 1D scatter plots for the log transform of each of the biomarkers.\n",
    "\n",
    "![Biomarker 1D Scatterplots](biomarker1DScatter.png)\n",
    "\n",
    "\n",
    "### Using color as a tool to differentiate categories\n",
    "The above figure provides a better sense of the distribution of each biomarker.  We see that GFAP indeed has a large cluster at zero where pNFH has many small points but only one zero.  However, our goal it to see if these biomarkers might be predictive of response. To visualize this better, we can color each of the points by response status.  \n",
    "\n",
    "![Biomarker 1D Scatterplots](biomarker1DScatterLabeled.png)\n"
   ]
  },
  {
   "cell_type": "markdown",
   "metadata": {},
   "source": [
    "### Question 5: From the plot above, what biomarkers do you think affect the response the most?"
   ]
  },
  {
   "cell_type": "markdown",
   "metadata": {},
   "source": [
    "**Answer**: This figure suggests that subjects with low values of GFAP are more likely to respond whereas the other two biomarkers are less informative. "
   ]
  },
  {
   "cell_type": "markdown",
   "metadata": {},
   "source": [
    "### Question 6: How to proceed next? What is missing from our analysis so far?"
   ]
  },
  {
   "cell_type": "markdown",
   "metadata": {},
   "source": [
    "**Answer:** We have only looked at marginal distributions of variables so far. To really understand the data better, \n",
    "   we need to look at the joint distributions. We have not also looked at sex yet."
   ]
  },
  {
   "cell_type": "markdown",
   "metadata": {},
   "source": [
    "### Let us use the last piece of information: gender"
   ]
  },
  {
   "cell_type": "markdown",
   "metadata": {},
   "source": [
    "Let's see if we can extract any joint information about response.  Below we show a parallel  coordinates plot split by sex.  Each line represents a subject and the y-axis represents the different biomarker values.  The plot Suggests that Males with large S100B and high GFAP are likely to respond (response is coded red), whereas females  with low GFAP are likely to respond.  While this plot is not a model and we have not attempted to calculate the misclassification rate, we see that there's signal.  Let's try to explore this further. \n",
    "\n",
    "![Biomarker 1D Scatterplots](biomarkerParCoordUpdated.png)"
   ]
  },
  {
   "cell_type": "markdown",
   "metadata": {},
   "source": [
    "### 2D Scatterplots.\n",
    "The next set of plots we'll look at will be scatter plots labeled by class.  To help visually identify which regions appear to be associated with recovery, we lay down a fine grid of points in the background and color them according to whether the nearest point corresponding to an observed patient was responsive or not, i.e., for each point on the grid we color it red if the nearest observed patient was a responder and black otherwise.  We also look these scatterplots split by sex.  \n",
    "\n",
    "<img src=\"biomarkerScatterKNN_GFAP_S100B.png\" width=\"1000\">\n",
    "\n",
    "The preceding scatterplot  of S100B vs GFAP shows suggests that S100B holds little additional value over GFAP \n",
    "in terms of predictive accuracy.  \n",
    "\n",
    "<img src=\"biomarkerScatterKNN_GFAP_S100B_Sex.png\" width=\"1000\">"
   ]
  },
  {
   "cell_type": "markdown",
   "metadata": {},
   "source": [
    "### Question 7: What do you interpret from the 2D scatter plots above?"
   ]
  },
  {
   "cell_type": "markdown",
   "metadata": {},
   "source": [
    "Points to discuss:\n",
    "1. The color contrasts between the male and female subjects is striking with the scatterplot for the male subjects being nearly all red and the plot for female subjects being mostly black.  \n",
    "2. However, sample sizes are small and large regions of these plots contain no data.  Thus, any generalization from these figures must be made with caution.  "
   ]
  },
  {
   "cell_type": "markdown",
   "metadata": {},
   "source": [
    "### Question 8. We next examine the similar plots with GFAP vs pNFH and S100B vs pNFH.  Interpret these plots and discuss them with a partner.\n",
    "\n",
    "<img src=\"biomarkerScatterKNN_GFAP_pNFH.png\" width=\"1000\">\n",
    "\n",
    "<img src=\"biomarkerScatterKNN_GFAP_pNFH_Sex.png\" width=\"1000\">\n",
    "\n",
    "\n",
    "<img src=\"biomarkerScatterKNN_S100B_pNFH.png\" width=\"1000\">\n",
    "\n",
    "<img src=\"biomarkerScatterKNN_S100B_pNFH_Sex.png\" width=\"1000\">\n",
    "\n",
    "\n"
   ]
  },
  {
   "cell_type": "markdown",
   "metadata": {},
   "source": [
    "#### Question 9 (20 mts)\n",
    "Use the preceding visualizations to make a recommendation to the investigators about whether it is worth exploring the development of a SNAP-test for recovery using the three biomarkers. Work with a partner on this.\n",
    "Your answers should also address the following questions:"
   ]
  },
  {
   "cell_type": "markdown",
   "metadata": {},
   "source": [
    "#### 9.1\n",
    "If the cost of the SNAP-test depends on the number of biomarkers it uses which biomarkers would you recommend be  included in the test?  "
   ]
  },
  {
   "cell_type": "markdown",
   "metadata": {},
   "source": [
    "#### 9.2 \n",
    "What should next steps be? For example, would you recommend running a follow-up confirmatory trial of biomarker prediction accuracy? "
   ]
  },
  {
   "cell_type": "markdown",
   "metadata": {},
   "source": [
    "#### 9.3 \n",
    "Fitting a classification model?  Developing the SNAP-test?  What are potential pitfalls associated with this study?  "
   ]
  },
  {
   "cell_type": "markdown",
   "metadata": {},
   "source": [
    "**Answer:**  We would recommend collecting data from GFAP only as the other biomarkers seem to provide little additional information in terms of predicting recovery.   Because the sample size is small it would valuable to run a follow-up (confirmatory) evaluation of a recovery predictive model based on GFAP. Recall that these samples were taken from an existing archive of blood samples and patient follow-up data.  It may be possible to simply pull more samples from this archive to evaluate the performance of a predictive model based on GFAP.   In terms of next steps, one could fit a classification model to identify an optimal cut point, e.g, a classifier of the form: predict recovery (response) if GFAP < c and predict non-recovery (non-response) otherwise.  One could also probably just pick a value from the plot.  In terms of potential pitfalls, samples were collected from a single location and may not be representative of the larger population of patients.  Furthermore, the subjects in this sample where from dogs that were taken to the hospital by their owners, thus, they may be more likely to come from homes with more resources (e.g., the ability and willingness to pay potentially large veterinary bills). Thus, these predictive models may not be accurate for a larger population of dogs (does this matter? Why? or Why not?).  "
   ]
  },
  {
   "cell_type": "markdown",
   "metadata": {},
   "source": [
    "\n",
    "## Extending our SNAP-test \n",
    "Upon further consideration of standard treatment protocols researchers decide that critical treatment decisions which would depend on predicted probability of recovery occurring at 72 hours post-injury.  Consequently, they are interested in whether or not taking three measurements, one per day, might provide better predictions of six-month recovery.  Because GFAP was our most promising biomarker at baseline, let's first plot GFAP over the first 72 hours (days 0, 1, and 2). To make the plot easier to parse visually, we split it by responder and non-responder.  \n",
    "\n",
    "\n",
    "\n",
    "<img src=\"biomarkerGFAP72Hours.png\" width=\"1000\">\n",
    "\n",
    "\n",
    "The preceding plot suggests that the GFAP levels tend to be more volatile among non-responders than responders  and that their peaks are higher.  Below we show a 1D scatterplot of the maximum (log) GFAP over 72 hours colored by responder status.  We see that we can nearly perfectly separate the data by this quantity save for ten points.  \n",
    "\n",
    "<img src=\"biomarkerGFAP72HoursMax.png\" width=\"1000\">"
   ]
  },
  {
   "cell_type": "markdown",
   "metadata": {},
   "source": [
    "### Question 10.  \n",
    "The preceding visualizations show that GFAP is a promising biomarker for predicting patient recovery from spinal coord injury among canine subjects extracted for this study.  How would you explore possible interactions between maximum GFAP over 72 hours and patient sex?  What if weight per subject was made availble, how might you integrate it into your visualizations?"
   ]
  },
  {
   "cell_type": "markdown",
   "metadata": {},
   "source": [
    "**Answer:** We could make separate 1D scatterplots of max GFAP colored by recovery for each sex or construct a single plot with a different marker (e.g., filled circles and hollow squares) for each sex.   To incorporate weight, we might consider a 2D scatterplot with max GFAP on the y-axis and and weight on the x-axis.  "
   ]
  },
  {
   "cell_type": "markdown",
   "metadata": {},
   "source": [
    "### Case Summary \n",
    "We evaluated the potential market value of a Snap test for spinal cord injuries in dogs.  We found that the biomarker GFAP seems to be the most discriminatory among the three biomarkers considered in terms of identifying the likelihood of recovery.  If measurements are taken over the first 72 hours following an injury it may be possible to construct significantly better predictions by taking the maximum of GFAP measurements over that period.  Because the sample size was small, we would recommend that investigators consider a follow-up study be conducted to evaluate the out-of-sample (i.e., using a separate set of subjects) performance before developing the Snap test.   \n",
    "\n"
   ]
  },
  {
   "cell_type": "markdown",
   "metadata": {},
   "source": [
    "### Takeaways ####\n",
    "1. As we saw in our case study visualizations are exploratory and some may prove to be uninformative. This is to be expected.  A large project may involve carefully examining hundreds of figures over days or weeks.\n",
    "2. Histograms and scatter plots provide information that are not contained in summaries. \n",
    "3. Using color judiciously will help identify patterns; in this case, we used color to separate male/females in the scatter plots. \n",
    "4.Knowledge-generating plots are used to inform statistical models or create new hypotheses that are relevant in the domain of application (e.g., low GFAP scores are associated with response etc.)  "
   ]
  },
  {
   "cell_type": "markdown",
   "metadata": {},
   "source": [
    "### Additional Comments  on Data Visualizations\n",
    "Data visualization is an indispensable part of data-driven decision making.  In many cases, data visualization is both the most informative and the most time consuming.  A high-quality series of visualizations can provide critical insights to clean data and construct appropriate statistical models.  Furthermore, such visualizations can serve an important catalyst for discussions between the data scientist and their collaborators. \n",
    "\n",
    "As the scale of the problem increases  one must rely increasingly on scripts to processes and format data for visualization and this process can become even more labor intensive. One might even generate thousands or tens of thousands of plots and then have code to automatically sort through them to find those that are somehow 'interesting.' However, the principles of visualization remain unchanged as the problem scales.  One should generate numerical summaries and visualizations both to confirm what one expects to see (to flag data issues or other problems or to identify interesting/unexpected patterns) ands to generate new knowledge.  Confirmatory plots can be considered as a kind of visual unit-testing of the observed data.  "
   ]
  },
  {
   "cell_type": "code",
   "execution_count": null,
   "metadata": {},
   "outputs": [],
   "source": []
  }
 ],
 "metadata": {
  "kernelspec": {
   "display_name": "Python 3",
   "language": "python",
   "name": "python3"
  },
  "language_info": {
   "codemirror_mode": {
    "name": "ipython",
    "version": 3
   },
   "file_extension": ".py",
   "mimetype": "text/x-python",
   "name": "python",
   "nbconvert_exporter": "python",
   "pygments_lexer": "ipython3",
   "version": "3.7.1"
  },
  "pycharm": {
   "stem_cell": {
    "cell_type": "raw",
    "metadata": {
     "collapsed": false
    },
    "source": []
   }
  }
 },
 "nbformat": 4,
 "nbformat_minor": 4
}
