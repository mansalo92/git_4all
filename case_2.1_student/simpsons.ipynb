{
 "cells": [
  {
   "cell_type": "markdown",
   "metadata": {},
   "source": [
    "## Exercise: Gender bias in graduate admissions \n",
    "\n",
    "In this exercise, you will revisit an example of striking EDA-V that appeared in Science one of the most\n",
    "prestigious scientific publications in the world.  The problem concerns gender bias in graduate admissions\n",
    "at the University of California at Berkeley.  The following table shows admission by gender:\n",
    "\n",
    "\n",
    "|Sex | Accepted | Rejected|\n",
    "|----|----------|---------|\n",
    "|Female| 557    | 1278    |\n",
    "|Male  | 1198   | 1498    |\n"
   ]
  },
  {
   "cell_type": "markdown",
   "metadata": {},
   "source": [
    "This simple table of summary statistics appears to be troubling for UC Berkeley.  It can be seen that about 30% of female applicants where admitted whereas nearly 45% of male applicants were admitted.  "
   ]
  },
  {
   "cell_type": "markdown",
   "metadata": {},
   "source": [
    "**Question 1:** If you were presented with this table what would next steps be? Without looking ahead, brainstorm next steps and potential explanations for the imbalance across sexes. (5 mts)"
   ]
  },
  {
   "cell_type": "markdown",
   "metadata": {},
   "source": [
    "**Answer: Eric Please write this**"
   ]
  },
  {
   "cell_type": "markdown",
   "metadata": {},
   "source": [
    "The original investigators (the authors of the Science paper refrenced above) sought to gain further insights into admission by gender through the following visualization: \n",
    "\n",
    "<img src=\"percentByAccRate.png\" width=\"1000\">\n"
   ]
  },
  {
   "cell_type": "markdown",
   "metadata": {},
   "source": [
    "**Question 2:** What do you see?  Any new insights or conclusions?  Discuss with your partner. (10 mts)"
   ]
  },
  {
   "cell_type": "markdown",
   "metadata": {},
   "source": [
    "**Answer: Eric answer this**"
   ]
  },
  {
   "cell_type": "markdown",
   "metadata": {},
   "source": [
    "Finally, look at the following \"mosaic\" plot. This plot gives the fraction of men and women admitted/rejected across various departments with in the university.\n",
    "    <img src=\"mosaicPlot.png\" width=\"1000\">\n",
    "     "
   ]
  },
  {
   "cell_type": "markdown",
   "metadata": {},
   "source": [
    "#### Question 3:  Does the mosaic plot above give additional information than the previous table and plot?"
   ]
  },
  {
   "cell_type": "code",
   "execution_count": null,
   "metadata": {},
   "outputs": [],
   "source": [
    "The preceding figure shows that more women applied to departments with smaller acceptance rate. However, this\n",
    "figure doesn't really drive the point home as clearly as the following mosaic plot which shows the admissions by\n",
    "department and sex.  Examine this figure and discuss.  "
   ]
  },
  {
   "cell_type": "markdown",
   "metadata": {},
   "source": [
    "#### Question 4: What general conclusions can we draw from this exercise? "
   ]
  },
  {
   "cell_type": "markdown",
   "metadata": {},
   "source": [
    "**Answer: ERic please write this**"
   ]
  },
  {
   "cell_type": "code",
   "execution_count": null,
   "metadata": {},
   "outputs": [],
   "source": []
  }
 ],
 "metadata": {
  "kernelspec": {
   "display_name": "Python 3",
   "language": "python",
   "name": "python3"
  },
  "language_info": {
   "codemirror_mode": {
    "name": "ipython",
    "version": 3
   },
   "file_extension": ".py",
   "mimetype": "text/x-python",
   "name": "python",
   "nbconvert_exporter": "python",
   "pygments_lexer": "ipython3",
   "version": "3.7.1"
  }
 },
 "nbformat": 4,
 "nbformat_minor": 2
}
