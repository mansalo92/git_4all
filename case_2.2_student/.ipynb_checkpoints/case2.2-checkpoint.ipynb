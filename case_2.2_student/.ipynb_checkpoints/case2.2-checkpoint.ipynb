{
 "cells": [
  {
   "cell_type": "markdown",
   "metadata": {},
   "source": [
    "# Case 2.2\n",
    "## How do users engage with a mobile app for automobiles?"
   ]
  },
  {
   "cell_type": "markdown",
   "metadata": {},
   "source": [
    "#### \"It is important to understand what you can do before you learn how to measure how well you seem to have done it.\" --J. Tukey\n",
    "\n",
    "As we saw in Case 2.1, careful data vizualization (DV) can guide or even supplant a formal statistical analysis. Here we continue with more complex and computationally intensive visualizations.  "
   ]
  },
  {
   "cell_type": "markdown",
   "metadata": {},
   "source": [
    "**Business Context.** A recent trend among car manufacturers is to provide continued support through mobile applications.  Features of these apps include services like remote ignition, GPS location, and anti-theft mechanisms as well as online scheduling, maintenance reminders, and promotion pushes.  Manufacturers are interested in maximizing engagement with their app because they feel that this increases relationship depth and brand loyalty with the customer. However, app usage is often limited with customers abandoning the app after only a short time or never even opening it. You are a data scientist for a large luxury auto-mobile company. Your company wants you to find out behavioral patterns in the users who engage with the app. The hope is that if you can find discernible patterns, your company can learn from those patterns and give users incentives to use the app more frequently.\n",
    "\n",
    "**Business Problem.**\n",
    "Your goal in this case study is to understand **how do users engage with your mobile app and how does the engagement change over time?** \n",
    "\n",
    "**Analytic Context:** \n",
    "In this case, we do not present just a catalog of different visualizations but rather an illustration of how domain questions can guide visualizations and how carefully constructed visualizations can generate new questions and insights."
   ]
  },
  {
   "cell_type": "markdown",
   "metadata": {},
   "source": [
    "There were originally 1000 customers using the app. We will look at data for a subset of 105 customers over the first four weeks of app usage after install.  This is small subset of the data chosen to be a representative sample. Data were collected as part off a beta version of the app."
   ]
  },
  {
   "cell_type": "markdown",
   "metadata": {},
   "source": [
    "#### Q1.  Users opted in and therefore may not be representative of the pool of car owners. Why?  And why does this matter? "
   ]
  },
  {
   "cell_type": "markdown",
   "metadata": {},
   "source": [
    "#### Summary statistics and a first look at the data\n",
    "As always, let's begin by having a look at the data and computing a few summary statistics. The data set contains \n",
    "105 rows and 116 columns.  Most of the columns represent longitudinal measurements of app paradata:\n",
    "\n",
    "| Variable name|  Description | Values |\n",
    "|--------------|--------------|------------|\n",
    "| age          | Ordinal age, coded: 1 (<= 25), 2 (26-34), 3 (35-50), 4 (50+)| Int: 1-4 | \n",
    "| sex          | Categorical sex | Char: F, M| \n",
    "| device_type  | Android or OS X | String: Andr, X|\n",
    "| vehicle_class| Luxury or standard vehicle| String: Lx, Std|\n",
    "| p_views_j, j=1,...,28| Ordinal page views on day j| Int: 1-5 |\n",
    "| major_p_type_j, j=1,...,28| Majority page type| String: Main, Prom, Serv| \n",
    "| engagement_time_j, j=1,...,28| Ordinal engagement time per day | Int: 0-5|\n",
    "| drive_j, j=1,...,28| Indicator that user drove| Int: 0, 1|"
   ]
  },
  {
   "cell_type": "markdown",
   "metadata": {},
   "source": [
    "**Eric: Please explain various aspects of the data, and what each of these mean**"
   ]
  },
  {
   "cell_type": "markdown",
   "metadata": {},
   "source": [
    "#### Understanding and visualizing patterns in missing data.\n",
    "The data have substantial missing data with nearly 60% of subjects missing at least one observation.  A useful first look at the missingness called\n",
    "a missingness plot, which is grid with rows corresponding to individuals and columns to the variables (in our case this will be a 106 x 115 grid). \n",
    "The (i,j)th squre of the grid is colored to indicate whether or not variable j was observed for subject i.  A first pass at a missingness plot \n",
    "is as follows: \n",
    "\n",
    "<img src=\"img/missingnessPlotOne.png\" width=\"1200\">"
   ]
  },
  {
   "cell_type": "markdown",
   "metadata": {},
   "source": [
    "#### Q2. Here the white square represent missing observations.  __Do you spot any patterns?__ "
   ]
  },
  {
   "cell_type": "markdown",
   "metadata": {},
   "source": [
    "**Answer:** It's not very easy to identify meaningful patterns from this plot as it's quite\n",
    "messy and busy. "
   ]
  },
  {
   "cell_type": "markdown",
   "metadata": {},
   "source": [
    "#### Q3. What are some of the ways you can visualize the missing data better?\n",
    "Answer: "
   ]
  },
  {
   "cell_type": "markdown",
   "metadata": {},
   "source": [
    "Let's make it again with the variables grouped by type:\n",
    "\n",
    "<img src=\"img/missingnessPlotTwo.png\" width=\"1200\">"
   ]
  },
  {
   "cell_type": "markdown",
   "metadata": {},
   "source": [
    "This is is considerably better.  Take a few minutes to examine this plot and see what patterns you can identify any patterns. "
   ]
  },
  {
   "cell_type": "markdown",
   "metadata": {},
   "source": [
    "#### Question 4. __Do these patterns make sense based on your understanding of the problem?  What about your own anecdotal experience with apps on your mobile device?__  "
   ]
  },
  {
   "cell_type": "markdown",
   "metadata": {},
   "source": [
    "**Answer:**"
   ]
  },
  {
   "cell_type": "markdown",
   "metadata": {},
   "source": [
    "Another view of this is to group variables by time rather than by type.  In this case the missingness plot looks like:\n",
    "\n",
    "<img src=\"img/missingnessPlotThree.png\" width=\"1200\">"
   ]
  },
  {
   "cell_type": "markdown",
   "metadata": {},
   "source": [
    "\n",
    "The pattern we spotted in the second missingness plot is now even more apparent. Most of the missingness\n",
    "is due to user disengagement with the app. The exception is sex and age which the user was allowed to forgo \n",
    "at their choosing.  On the other hand, device and vehicle class were required and thus none are missing.  \n",
    "\n",
    "Note that the current version of the plot has the rows in no particular order (they're sorted by a randomly assigned user id). \n",
    "We can further improve the aesthetic of this plot by reordering the rows by missingness. \n"
   ]
  },
  {
   "cell_type": "markdown",
   "metadata": {},
   "source": [
    "<img src=\"img/missingnessPlotFour.png\" width=\"1200\">"
   ]
  },
  {
   "cell_type": "markdown",
   "metadata": {},
   "source": [
    "From this plot it is immediate that subjects are dropping off and not  returning; the show a **nearly monotone missingness pattern** which is useful for weighting and multiple imputation schemes (such methods are discussed in another case study). We can also see that a significant proportion of users engaged  with the app throughout the entire follow-up period."
   ]
  },
  {
   "cell_type": "markdown",
   "metadata": {},
   "source": [
    "**The preceding four plots all use the same type of plot to display the same data and thus, in some sense, they contain the same information. However, the fourth plot is clearly easier to digest visually than the first one.  We had to re-order the data to improve the visualization.**"
   ]
  },
  {
   "cell_type": "markdown",
   "metadata": {},
   "source": [
    "#### Question 5. The (nearly) monotone missingness pattern makes it much easier in choosing a model for filling in the missing data.  Why?"
   ]
  },
  {
   "cell_type": "markdown",
   "metadata": {},
   "source": [
    "**Answer: Please fill in**"
   ]
  },
  {
   "cell_type": "markdown",
   "metadata": {},
   "source": [
    "#### Evaluating patterns in page views\n",
    "Page views are of primary interest to stakeholders as a measure of engagement.  We now seek to identify patterns \n",
    "in the number of page views per day and their relationship to disengagement with  the app.  Recall that that page views is an ordinal variable (ordered categorical variable) coded 1-5. Here 1 codes 0-1 actual page views with 1 indicating that the app was opened and then closed without navigating past the splash page).  For each person we have a sequence of up to 28 observations taking values in (1,2,...,5).  As a first look, let's plot these with one line per subject. \n",
    "\n",
    "<img src=\"img/matplotOne.png\" width=\"1200\">\n",
    "\n",
    "\n",
    "The preceding plot is extremely difficult to read. We might try to run a smoother (running mean) through the plot to \n",
    "try and identify any patterns.  The following plot shows a simple running mean in black.\n",
    "\n",
    "<img src=\"img/matplotTwo.png\" width=\"1200\">\n"
   ]
  },
  {
   "cell_type": "markdown",
   "metadata": {},
   "source": [
    "#### Question 6.  We see that there seems to be some kind of periodicity in the above smoothed plot. Can you conjecture what might explain this pattern? (Hint: the data on all 105 subjects is aligned in calendar time.)"
   ]
  },
  {
   "cell_type": "markdown",
   "metadata": {},
   "source": [
    "**Answer:**"
   ]
  },
  {
   "cell_type": "markdown",
   "metadata": {},
   "source": [
    "#### Clustering by types of users.\n",
    "Domain experts who have run qualitative studies of user behavior believe that there are different \"types of users\" who believe similarly.  They believe that page view behavior would be more homogeneous within these groups. However, these groups are not directly observable.\n",
    "\n",
    "Using clustering methods, we have segregated the users into three groups based on their similarities. We will learn how to do these clustering in a later case. For now, let us look at three clusters that are shown below.  \n",
    "\n",
    "<img src=\"img/matplotG1.png\" width=\"1200\">\n",
    "<img src=\"img/matplotG2.png\" width=\"1200\">\n",
    "<img src=\"img/matplotG3.png\" width=\"1200\">"
   ]
  },
  {
   "cell_type": "code",
   "execution_count": null,
   "metadata": {},
   "outputs": [],
   "source": [
    "#We cluster the groups using k-medoids where the distance \n",
    "#between two trajectories is measured using manhattan distance computed on the set of indices observed in both trajectories.  \n",
    "#We choose the number of clusters using the ratio of within-cluster to between-cluster mean absolute deviation. \n",
    "## We will learn about these methods in a later case study. "
   ]
  },
  {
   "cell_type": "markdown",
   "metadata": {},
   "source": [
    "#### Question 7. Are the user groups in the three clusters above similar in the behaviors? What patterns do you notice? "
   ]
  },
  {
   "cell_type": "markdown",
   "metadata": {},
   "source": [
    "**Answer:** These three plots illustrate three seeminly different user profiles. The first appears to fluctuate about three with no discernable pattern, whereas the second group shows an obvious quadratic trend that is commonly associated with app usage and disengagment, the third group appears to be regular users that  have strong periodicity.  "
   ]
  },
  {
   "cell_type": "markdown",
   "metadata": {},
   "source": [
    "#### Question 8:  Which category of users do you think are more likely to look at promotional pages? (major page type category \"Prom\")"
   ]
  },
  {
   "cell_type": "markdown",
   "metadata": {},
   "source": [
    "**Answer: Third group. Why??**"
   ]
  },
  {
   "cell_type": "markdown",
   "metadata": {},
   "source": [
    "## Analyzing major page type over time across user groups.\n",
    "Let's have a look at the major page type over time across user groups groups.\n",
    "\n",
    "<img src=\"img/pagetypeG1.png\" width=\"1200\">\n",
    "<img src=\"img/pagetypeG2.png\" width=\"1200\">\n",
    "<img src=\"img/pagetypeG3.png\" width=\"1200\">"
   ]
  },
  {
   "cell_type": "markdown",
   "metadata": {},
   "source": [
    "#### Question 9: What are some potential next steps if you wanted to deep dive into user page view behavior? What additional data might you want to collect on users? "
   ]
  },
  {
   "cell_type": "markdown",
   "metadata": {},
   "source": [
    "**Answer: Eric please fill these**"
   ]
  },
  {
   "cell_type": "markdown",
   "metadata": {},
   "source": [
    "### Predicting dropout from page view behavior \n",
    "Because page view behavior is believed to be strongly related to engagement with the app and likelihood of discontinuation \n",
    "we now examine if we can identify patterns in the dropout relative to the trajectories within groups.  First\n",
    "we can simply label the last observation for each subject with a large red dot.  \n",
    "\n",
    "\n",
    "<img src=\"img/matplotMissingG1.png\" width=\"1200\">\n",
    "<img src=\"img/matplotMissingG2.png\" width=\"1200\">\n",
    "<img src=\"img/matplotMissingG3.png\" width=\"1200\">"
   ]
  },
  {
   "cell_type": "markdown",
   "metadata": {},
   "source": [
    "#### Question 10: Do you notice any patterns in page views preceding dropout?"
   ]
  },
  {
   "cell_type": "markdown",
   "metadata": {},
   "source": [
    "**Answer:** Within groups two and three we low page views preceding dropout but there does not appear to be any such pattern in group 1. "
   ]
  },
  {
   "cell_type": "markdown",
   "metadata": {},
   "source": [
    "**Question 11: Work with a partner. Based on the preceding visualizations suggest and adaptive intervention strategy that monitors a user's page views and then offers them an incentive to continue using the app when it is thought that the incentive would be most impactful.  Assume that you can offer at most one such incentive during the first four weeks of app use.**"
   ]
  },
  {
   "cell_type": "markdown",
   "metadata": {},
   "source": [
    "**Answer:Eric, please write a few points here. I presume we want to discuss a few ideas, so this should be a longer exercise**"
   ]
  },
  {
   "cell_type": "markdown",
   "metadata": {},
   "source": [
    "#### Missingness and engagement by age and sex"
   ]
  },
  {
   "cell_type": "markdown",
   "metadata": {},
   "source": [
    "Now suppose that you were asked to investigate engagement by age and sex. What plots would you make first? How would \n",
    "would you deal with missing data?  As a first look, let's examine the composition of and sex:\n",
    "\n",
    "| Age | F |M|\n",
    "| ----|--|--|\n",
    "|  1 |  1 |  5 |\n",
    "|  2 | 7 | 11 |\n",
    "|  3 | 10 | 25 |\n",
    "|  4 | 6  | 4  |\n",
    "\n",
    "Remember, in this data set, age is an ordinal variable. It is coded as: 1 (<= 25), 2 (26-34), 3 (35-50), 4 (50+)."
   ]
  },
  {
   "cell_type": "markdown",
   "metadata": {},
   "source": [
    "#### Question 12: What does this tell us about the composition of males and females by age using the app?  Carefull! Don't forget the missing data:\n",
    "\n",
    "|  Sex|missing | observed|\n",
    "|------|------|--------|\n",
    "|Age missing| 6 | 23 | \n",
    "|Age observed| 7 | 69|"
   ]
  },
  {
   "cell_type": "markdown",
   "metadata": {},
   "source": [
    "**Answer: Eric, please write**"
   ]
  },
  {
   "cell_type": "markdown",
   "metadata": {},
   "source": [
    "#### Question 13: How can we use the above table to impute the missing values? "
   ]
  },
  {
   "cell_type": "markdown",
   "metadata": {},
   "source": [
    "**Answer: Eric please write here**"
   ]
  },
  {
   "cell_type": "markdown",
   "metadata": {},
   "source": [
    "#### Question 14:  How would you explore male versus female patterns without our groups?  What if we wanted to split by age? Work with your partner and sketch a prototype of your plot. "
   ]
  },
  {
   "cell_type": "markdown",
   "metadata": {},
   "source": [
    "__Answers:__ One could make all the proceeding plots separately for all combinations of sex and age within each latent group.  An alternative would be to use different markers (e.g., circles and squres) for males and females and a gradient of colors for age.  Note that in the plots we've shown so far the coloring was arbitrarily assigned to subects.  While this may make it easier to identify separate lines it misses an opportunity to convey more useful information. \n",
    "\n",
    "\n",
    "<img src=\"img/matplotG3M.png\" width=\"1200\">\n",
    "<img src=\"img/matplotG3F.png\" width=\"1200\">\n"
   ]
  },
  {
   "cell_type": "markdown",
   "metadata": {},
   "source": [
    "#### Case Summary:\n",
    "\n",
    "**Eric: please write the key summaries of the case we just concluded."
   ]
  },
  {
   "cell_type": "markdown",
   "metadata": {},
   "source": [
    "#### Takeaways"
   ]
  },
  {
   "cell_type": "markdown",
   "metadata": {},
   "source": [
    "1. For visualizing missing data, sometimes its important to reorder the data to identify patters. \n",
    "2. Reordering the data to look for monontone missingness pattern is worthwhile; if we have monotone missingness patterns, it is easier to impute (\"fill-in\") in the missing data. "
   ]
  },
  {
   "cell_type": "code",
   "execution_count": null,
   "metadata": {},
   "outputs": [],
   "source": []
  }
 ],
 "metadata": {
  "kernelspec": {
   "display_name": "Python 3",
   "language": "python",
   "name": "python3"
  },
  "language_info": {
   "codemirror_mode": {
    "name": "ipython",
    "version": 3
   },
   "file_extension": ".py",
   "mimetype": "text/x-python",
   "name": "python",
   "nbconvert_exporter": "python",
   "pygments_lexer": "ipython3",
   "version": "3.7.1"
  }
 },
 "nbformat": 4,
 "nbformat_minor": 4
}
